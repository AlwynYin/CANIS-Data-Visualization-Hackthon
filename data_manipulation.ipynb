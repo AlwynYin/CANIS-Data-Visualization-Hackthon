{
 "nbformat": 4,
 "nbformat_minor": 0,
 "metadata": {
  "colab": {
   "provenance": []
  },
  "kernelspec": {
   "name": "python3",
   "language": "python",
   "display_name": "Python 3 (ipykernel)"
  },
  "language_info": {
   "name": "python"
  }
 },
 "cells": [
  {
   "cell_type": "code",
   "execution_count": 4,
   "metadata": {
    "id": "O7yMMOBse0xI",
    "executionInfo": {
     "status": "ok",
     "timestamp": 1700431443127,
     "user_tz": 300,
     "elapsed": 198,
     "user": {
      "displayName": "Alwyn Yin",
      "userId": "16553105048170736713"
     }
    },
    "ExecuteTime": {
     "end_time": "2023-11-20T04:25:41.880173Z",
     "start_time": "2023-11-20T04:25:41.849840Z"
    }
   },
   "outputs": [],
   "source": [
    "import numpy as np\n",
    "import pandas as pd"
   ]
  },
  {
   "cell_type": "code",
   "source": [
    "df = pd.read_excel(\"data/original.xlsx\", dtype={\n",
    "    \"X (Twitter) Follower #\": \"Int64\",\n",
    "    \"Facebook Follower #\": \"Int64\",\n",
    "    \"Instagram Follower #\": \"Int64\",\n",
    "    \"Threads Follower #\": \"Int64\",\n",
    "    \"YouTube Subscriber #\": \"Int64\",\n",
    "    \"TikTok Subscriber #\": \"Int64\"\n",
    "})"
   ],
   "metadata": {
    "id": "OvECFUw0gI6p",
    "executionInfo": {
     "status": "ok",
     "timestamp": 1700431446373,
     "user_tz": 300,
     "elapsed": 2342,
     "user": {
      "displayName": "Alwyn Yin",
      "userId": "16553105048170736713"
     }
    },
    "ExecuteTime": {
     "end_time": "2023-11-20T04:25:43.806211Z",
     "start_time": "2023-11-20T04:25:43.131352Z"
    }
   },
   "execution_count": 5,
   "outputs": []
  },
  {
   "cell_type": "markdown",
   "source": [],
   "metadata": {
    "id": "Xpc8hKkgypaR"
   }
  },
  {
   "cell_type": "code",
   "source": [
    "# rename the headers\n",
    "df.rename(columns={\"Name (English)\": \"Name\",\n",
    "           \"Name (Chinese)\": \"Name_Chinese\",\n",
    "           \"Region of Focus\": \"Region\",\n",
    "\n",
    "           \"Entity owner (English)\": \"Owner\",\n",
    "           \"Entity owner (Chinese)\": \"Owner_Chinese\",\n",
    "           \"Parent entity (English)\": \"Parent\",\n",
    "           \"Parent entity (Chinese)\": \"Parent_Chinese\",\n",
    "\n",
    "           \"X (Twitter) handle\": \"Twitter\",\n",
    "           \"X (Twitter) URL\": \"Twitter_url\",\n",
    "           \"X (Twitter) Follower #\": \"Twitter_fol\",\n",
    "\n",
    "           \"Facebook page\": \"Facebook\",\n",
    "           \"Facebook URL\": \"Facebook_url\",\n",
    "           \"Facebook Follower #\": \"Facebook_fol\",\n",
    "\n",
    "           \"Instragram page\": \"Instagram\",\n",
    "           \"Instagram URL\": \"Instagram_url\",\n",
    "           \"Instagram Follower #\": \"Instagram_fol\",\n",
    "\n",
    "           \"Threads account\": \"Threads\",\n",
    "           \"Threads URL\": \"Threads_url\",\n",
    "           \"Threads Follower #\": \"Threads_fol\",\n",
    "\n",
    "           \"YouTube account\": \"Youtube\",\n",
    "           \"YouTube URL\": \"Youtube_url\",\n",
    "           \"YouTube Subscriber #\": \"Youtube_fol\",\n",
    "\n",
    "           \"TikTok account\": \"Tiktok\",\n",
    "           \"TikTok URL\": \"Tiktok_url\",\n",
    "           \"TikTok Subscriber #\": \"Tiktok_fol\"\n",
    "        }, inplace=True)"
   ],
   "metadata": {
    "id": "fAZCrI_Uhgtk",
    "executionInfo": {
     "status": "ok",
     "timestamp": 1700431446373,
     "user_tz": 300,
     "elapsed": 4,
     "user": {
      "displayName": "Alwyn Yin",
      "userId": "16553105048170736713"
     }
    },
    "ExecuteTime": {
     "end_time": "2023-11-20T04:25:46.977247Z",
     "start_time": "2023-11-20T04:25:46.943858Z"
    }
   },
   "execution_count": 6,
   "outputs": []
  },
  {
   "cell_type": "markdown",
   "source": [
    "Drop useless rows with no values on all the social media, and fill non-existent social media followers with 0"
   ],
   "metadata": {
    "id": "KHhpAosn4myU"
   }
  },
  {
   "cell_type": "code",
   "source": [
    "media = [\"Twitter\", \"Facebook\", \"Instagram\", \"Threads\", \"Youtube\", \"Tiktok\"]\n",
    "media_fol = [s + '_fol' for s in media]\n",
    "df.dropna(subset=media_fol,inplace=True, how=\"all\")\n",
    "df[media_fol] = df[media_fol].fillna(0)"
   ],
   "metadata": {
    "id": "qCT4xZg_4mLQ",
    "executionInfo": {
     "status": "ok",
     "timestamp": 1700431446373,
     "user_tz": 300,
     "elapsed": 3,
     "user": {
      "displayName": "Alwyn Yin",
      "userId": "16553105048170736713"
     }
    },
    "ExecuteTime": {
     "end_time": "2023-11-20T04:25:51.847079Z",
     "start_time": "2023-11-20T04:25:51.817126Z"
    }
   },
   "execution_count": 7,
   "outputs": []
  },
  {
   "cell_type": "markdown",
   "source": [
    "Language -> region of focus show the impactiveness of the media by checking their follower numbers.\n",
    "         ->"
   ],
   "metadata": {
    "id": "uhvpRhxhhB-j"
   }
  },
  {
   "cell_type": "markdown",
   "source": [
    "we created some classifications based on the original regions in excel"
   ],
   "metadata": {
    "id": "QvFHsDwpzAXT"
   }
  },
  {
   "cell_type": "code",
   "source": [
    "classification = pd.read_excel(\"data/regions.xlsx\")"
   ],
   "metadata": {
    "id": "EiaQMabDy2oa",
    "executionInfo": {
     "status": "ok",
     "timestamp": 1700431446732,
     "user_tz": 300,
     "elapsed": 362,
     "user": {
      "displayName": "Alwyn Yin",
      "userId": "16553105048170736713"
     }
    },
    "colab": {
     "base_uri": "https://localhost:8080/"
    },
    "outputId": "bbb1c0f0-993f-40cc-af9c-191aaf6f666b",
    "ExecuteTime": {
     "end_time": "2023-11-20T04:26:47.564504Z",
     "start_time": "2023-11-20T04:26:47.504461Z"
    }
   },
   "execution_count": 10,
   "outputs": [
    {
     "name": "stderr",
     "output_type": "stream",
     "text": [
      "/Users/alwyn/Developer/projects/CANIS-Data-Visualization-Hackthon/venv/lib/python3.10/site-packages/openpyxl/worksheet/_reader.py:329: UserWarning: Unknown extension is not supported and will be removed\n",
      "  warn(msg)\n"
     ]
    }
   ]
  },
  {
   "cell_type": "code",
   "source": [
    "# rename\n",
    "classification.rename(columns={\"Region of Focus\": \"Region\",\n",
    "                               \"STATES\": \"States\",\n",
    "                               \"SPECIFIC\": \"Specific\"}, inplace=True)\n",
    "# reset the index of classification to the row \"Region\"\n",
    "classification.set_index(\"Region\", inplace=True)\n",
    "classification"
   ],
   "metadata": {
    "id": "A15nTpOFgdi5",
    "executionInfo": {
     "status": "ok",
     "timestamp": 1700431446732,
     "user_tz": 300,
     "elapsed": 8,
     "user": {
      "displayName": "Alwyn Yin",
      "userId": "16553105048170736713"
     }
    },
    "colab": {
     "base_uri": "https://localhost:8080/",
     "height": 455
    },
    "outputId": "10b71f9c-ad1b-4769-e9b0-293b3d5c5da4",
    "ExecuteTime": {
     "end_time": "2023-11-20T04:27:00.430135Z",
     "start_time": "2023-11-20T04:27:00.413078Z"
    }
   },
   "execution_count": 11,
   "outputs": [
    {
     "data": {
      "text/plain": "                       States                           Specific\nRegion                                                          \nAnglosphere      Cross States  Language and Cultural Communities\nChina                    Asia                      Greater China\nAfghanistan              Asia                         South Asia\nYunnan                   Asia                      Greater China\nSwitzerland            Europe                             Non-EU\n...                       ...                                ...\nCambodia                 Asia                              ASEAN\nGuyana               Americas                      Latin America\nNorth Macedonia        Europe                             Non-EU\nSierra Leone           Africa                      African Union\nSingapore                Asia                              ASEAN\n\n[172 rows x 2 columns]",
      "text/html": "<div>\n<style scoped>\n    .dataframe tbody tr th:only-of-type {\n        vertical-align: middle;\n    }\n\n    .dataframe tbody tr th {\n        vertical-align: top;\n    }\n\n    .dataframe thead th {\n        text-align: right;\n    }\n</style>\n<table border=\"1\" class=\"dataframe\">\n  <thead>\n    <tr style=\"text-align: right;\">\n      <th></th>\n      <th>States</th>\n      <th>Specific</th>\n    </tr>\n    <tr>\n      <th>Region</th>\n      <th></th>\n      <th></th>\n    </tr>\n  </thead>\n  <tbody>\n    <tr>\n      <th>Anglosphere</th>\n      <td>Cross States</td>\n      <td>Language and Cultural Communities</td>\n    </tr>\n    <tr>\n      <th>China</th>\n      <td>Asia</td>\n      <td>Greater China</td>\n    </tr>\n    <tr>\n      <th>Afghanistan</th>\n      <td>Asia</td>\n      <td>South Asia</td>\n    </tr>\n    <tr>\n      <th>Yunnan</th>\n      <td>Asia</td>\n      <td>Greater China</td>\n    </tr>\n    <tr>\n      <th>Switzerland</th>\n      <td>Europe</td>\n      <td>Non-EU</td>\n    </tr>\n    <tr>\n      <th>...</th>\n      <td>...</td>\n      <td>...</td>\n    </tr>\n    <tr>\n      <th>Cambodia</th>\n      <td>Asia</td>\n      <td>ASEAN</td>\n    </tr>\n    <tr>\n      <th>Guyana</th>\n      <td>Americas</td>\n      <td>Latin America</td>\n    </tr>\n    <tr>\n      <th>North Macedonia</th>\n      <td>Europe</td>\n      <td>Non-EU</td>\n    </tr>\n    <tr>\n      <th>Sierra Leone</th>\n      <td>Africa</td>\n      <td>African Union</td>\n    </tr>\n    <tr>\n      <th>Singapore</th>\n      <td>Asia</td>\n      <td>ASEAN</td>\n    </tr>\n  </tbody>\n</table>\n<p>172 rows × 2 columns</p>\n</div>"
     },
     "execution_count": 11,
     "metadata": {},
     "output_type": "execute_result"
    }
   ]
  },
  {
   "cell_type": "code",
   "source": [
    "df[\"States\"] = df[\"Region\"].map(classification[\"States\"])\n",
    "df[\"Specific\"] = df[\"Region\"].map(classification[\"Specific\"])"
   ],
   "metadata": {
    "id": "NKFz5fl2zkyH",
    "executionInfo": {
     "status": "ok",
     "timestamp": 1700431446732,
     "user_tz": 300,
     "elapsed": 6,
     "user": {
      "displayName": "Alwyn Yin",
      "userId": "16553105048170736713"
     }
    },
    "ExecuteTime": {
     "end_time": "2023-11-20T04:27:02.728129Z",
     "start_time": "2023-11-20T04:27:02.689752Z"
    }
   },
   "execution_count": 12,
   "outputs": []
  },
  {
   "cell_type": "code",
   "source": [
    "df[\"States\"]"
   ],
   "metadata": {
    "colab": {
     "base_uri": "https://localhost:8080/"
    },
    "id": "N0jchgz-Sb-R",
    "executionInfo": {
     "status": "ok",
     "timestamp": 1700431446732,
     "user_tz": 300,
     "elapsed": 6,
     "user": {
      "displayName": "Alwyn Yin",
      "userId": "16553105048170736713"
     }
    },
    "outputId": "2446b227-fbb3-4677-b806-36cc2437390a",
    "ExecuteTime": {
     "end_time": "2023-11-20T04:27:04.623558Z",
     "start_time": "2023-11-20T04:27:04.617319Z"
    }
   },
   "execution_count": 13,
   "outputs": [
    {
     "data": {
      "text/plain": "0      Cross States\n1      Cross States\n2              Asia\n3              Asia\n4      Cross States\n           ...     \n753            Asia\n754            Asia\n755            Asia\n756    Cross States\n757            Asia\nName: States, Length: 757, dtype: object"
     },
     "execution_count": 13,
     "metadata": {},
     "output_type": "execute_result"
    }
   ]
  },
  {
   "cell_type": "markdown",
   "source": [
    "To make it easier to see the data, we change the column order"
   ],
   "metadata": {
    "id": "iA4bzcNIzsZ5"
   }
  },
  {
   "cell_type": "code",
   "source": [
    "new_order_front = [\"Name\", \"Name_Chinese\", \"Region\", \"Language\", \"States\", \"Specific\"]\n",
    "new_order_tail = [col for col in df.columns if col not in new_order_front]\n",
    "new_order = new_order_front + new_order_tail\n",
    "new_order"
   ],
   "metadata": {
    "id": "0c3lMd_Ozqax",
    "executionInfo": {
     "status": "ok",
     "timestamp": 1700431446865,
     "user_tz": 300,
     "elapsed": 138,
     "user": {
      "displayName": "Alwyn Yin",
      "userId": "16553105048170736713"
     }
    },
    "colab": {
     "base_uri": "https://localhost:8080/"
    },
    "outputId": "64485b09-9635-48d2-ad0c-e658b9f166ee",
    "ExecuteTime": {
     "end_time": "2023-11-20T04:27:08.131091Z",
     "start_time": "2023-11-20T04:27:08.117190Z"
    }
   },
   "execution_count": 14,
   "outputs": [
    {
     "data": {
      "text/plain": "['Name',\n 'Name_Chinese',\n 'Region',\n 'Language',\n 'States',\n 'Specific',\n 'Owner',\n 'Owner_Chinese',\n 'Parent',\n 'Parent_Chinese',\n 'Twitter',\n 'Twitter_url',\n 'Twitter_fol',\n 'Facebook',\n 'Facebook_url',\n 'Facebook_fol',\n 'Instagram',\n 'Instagram_url',\n 'Instagram_fol',\n 'Threads',\n 'Threads_url',\n 'Threads_fol',\n 'Youtube',\n 'Youtube_url',\n 'Youtube_fol',\n 'Tiktok',\n 'Tiktok_url',\n 'Tiktok_fol']"
     },
     "execution_count": 14,
     "metadata": {},
     "output_type": "execute_result"
    }
   ]
  },
  {
   "cell_type": "code",
   "source": [
    "df = df[new_order]\n",
    "df"
   ],
   "metadata": {
    "id": "5q1EAkxtzztW",
    "executionInfo": {
     "status": "ok",
     "timestamp": 1700431446866,
     "user_tz": 300,
     "elapsed": 5,
     "user": {
      "displayName": "Alwyn Yin",
      "userId": "16553105048170736713"
     }
    },
    "colab": {
     "base_uri": "https://localhost:8080/",
     "height": 912
    },
    "outputId": "20c9a2a9-73d4-4516-9009-659c1afe96b6",
    "ExecuteTime": {
     "end_time": "2023-11-20T04:27:09.881999Z",
     "start_time": "2023-11-20T04:27:09.831775Z"
    }
   },
   "execution_count": 15,
   "outputs": [
    {
     "data": {
      "text/plain": "                                                Name Name_Chinese  \\\n0                           Yang Xinmeng (Abby Yang)          杨欣萌   \n1                               CGTN Culture Express          NaN   \n2                     All-China Students' Federation       中华全国学联   \n3                  Chen Zhong (Dechinghutay / Ghoti)           陈重   \n4                                         Yang Sheng          NaN   \n..                                               ...          ...   \n753                                        Yang Gang           杨刚   \n754  Chinese Office of the Commissioner in Hong Kong      外交部駐港公署   \n755                                  Shiting Wenshan         视听文山   \n756                                   New Marco Polo          NaN   \n757                                 Xinhua Hong Kong         新華香港   \n\n          Region Language        States                           Specific  \\\n0    Anglosphere  English  Cross States  Language and Cultural Communities   \n1    Anglosphere  English  Cross States  Language and Cultural Communities   \n2          China  Chinese          Asia                      Greater China   \n3    Afghanistan   Pashto          Asia                         South Asia   \n4    Anglosphere  English  Cross States  Language and Cultural Communities   \n..           ...      ...           ...                                ...   \n753    Singapore  Chinese          Asia                              ASEAN   \n754    Hong Kong  Chinese          Asia                      Greater China   \n755       Yunnan  Chinese          Asia                      Greater China   \n756  Anglosphere  English  Cross States  Language and Cultural Communities   \n757    Hong Kong  Chinese          Asia                      Greater China   \n\n                                                 Owner  \\\n0                              China Media Group (CMG)   \n1                              China Media Group (CMG)   \n2                       All-China Students' Federation   \n3                              China Media Group (CMG)   \n4                                 People's Daily Press   \n..                                                 ...   \n753                        Ministry of Foreign Affairs   \n754  Office of the Commissioner of the Ministry of ...   \n755                 Wenshan Radio & Television Station   \n756                                 Xinhua News Agency   \n757                                 Xinhua News Agency   \n\n               Owner_Chinese  \\\n0                   中央广播电视总台   \n1                   中央广播电视总台   \n2                  中华全国学生联合会   \n3                   中央广播电视总台   \n4                      人民日报社   \n..                       ...   \n753               中华人民共和国外交部   \n754  中華人民共和國外交部駐香港特別行政區特派員公署   \n755                  文山广播电视台   \n756                      新华社   \n757                      新华社   \n\n                                               Parent Parent_Chinese  ...  \\\n0                        Central Publicity Department        中共中央宣传部  ...   \n1                        Central Publicity Department        中共中央宣传部  ...   \n2     Central Committee of the Communist Youth League          共青团中央  ...   \n3                        Central Publicity Department        中共中央宣传部  ...   \n4    Central Committee of the Chinese Communist Party     中国共产党中央委员会  ...   \n..                                                ...            ...  ...   \n753                       Ministry of Foreign Affairs     中华人民共和国外交部  ...   \n754                       Ministry of Foreign Affairs     中华人民共和国外交部  ...   \n755             Wenshan Municipal People's Government        文山市人民政府  ...   \n756                                     State Council     中华人民共和国国务院  ...   \n757                                     State Council     中华人民共和国国务院  ...   \n\n    Instagram_fol       Threads                            Threads_url  \\\n0            9507  _bubblyabby_  https://www.threads.net/@_bubblyabby_   \n1             635           NaN                                    NaN   \n2               0           NaN                                    NaN   \n3               0           NaN                                    NaN   \n4               0           NaN                                    NaN   \n..            ...           ...                                    ...   \n753             0           NaN                                    NaN   \n754             0           NaN                                    NaN   \n755             0           NaN                                    NaN   \n756             0           NaN                                    NaN   \n757             0           NaN                                    NaN   \n\n    Threads_fol       Youtube  \\\n0           197       itsAbby   \n1             0           NaN   \n2             0           NaN   \n3             0  dechinghutay   \n4             0           NaN   \n..          ...           ...   \n753           0           NaN   \n754           0           NaN   \n755           0           NaN   \n756           0           NaN   \n757           0           NaN   \n\n                                           Youtube_url Youtube_fol  \\\n0                      https://www.youtube.com/itsAbby        4680   \n1                                                  NaN           0   \n2                                                  NaN           0   \n3    https://www.youtube.com/channel/UCXl9X2fi65wKf...         695   \n4                                                  NaN           0   \n..                                                 ...         ...   \n753                                                NaN           0   \n754                                                NaN           0   \n755                                                NaN           0   \n756                                                NaN           0   \n757                                                NaN           0   \n\n           Tiktok                            Tiktok_url Tiktok_fol  \n0    _bubblyabby_  https://www.tiktok.com/@_bubblyabby_        660  \n1             NaN                                   NaN          0  \n2             NaN                                   NaN          0  \n3    dechinghutay  https://www.tiktok.com/@dechinghutay     326100  \n4             NaN                                   NaN          0  \n..            ...                                   ...        ...  \n753           NaN                                   NaN          0  \n754           NaN                                   NaN          0  \n755           NaN                                   NaN          0  \n756           NaN                                   NaN          0  \n757           NaN                                   NaN          0  \n\n[757 rows x 28 columns]",
      "text/html": "<div>\n<style scoped>\n    .dataframe tbody tr th:only-of-type {\n        vertical-align: middle;\n    }\n\n    .dataframe tbody tr th {\n        vertical-align: top;\n    }\n\n    .dataframe thead th {\n        text-align: right;\n    }\n</style>\n<table border=\"1\" class=\"dataframe\">\n  <thead>\n    <tr style=\"text-align: right;\">\n      <th></th>\n      <th>Name</th>\n      <th>Name_Chinese</th>\n      <th>Region</th>\n      <th>Language</th>\n      <th>States</th>\n      <th>Specific</th>\n      <th>Owner</th>\n      <th>Owner_Chinese</th>\n      <th>Parent</th>\n      <th>Parent_Chinese</th>\n      <th>...</th>\n      <th>Instagram_fol</th>\n      <th>Threads</th>\n      <th>Threads_url</th>\n      <th>Threads_fol</th>\n      <th>Youtube</th>\n      <th>Youtube_url</th>\n      <th>Youtube_fol</th>\n      <th>Tiktok</th>\n      <th>Tiktok_url</th>\n      <th>Tiktok_fol</th>\n    </tr>\n  </thead>\n  <tbody>\n    <tr>\n      <th>0</th>\n      <td>Yang Xinmeng (Abby Yang)</td>\n      <td>杨欣萌</td>\n      <td>Anglosphere</td>\n      <td>English</td>\n      <td>Cross States</td>\n      <td>Language and Cultural Communities</td>\n      <td>China Media Group (CMG)</td>\n      <td>中央广播电视总台</td>\n      <td>Central Publicity Department</td>\n      <td>中共中央宣传部</td>\n      <td>...</td>\n      <td>9507</td>\n      <td>_bubblyabby_</td>\n      <td>https://www.threads.net/@_bubblyabby_</td>\n      <td>197</td>\n      <td>itsAbby</td>\n      <td>https://www.youtube.com/itsAbby</td>\n      <td>4680</td>\n      <td>_bubblyabby_</td>\n      <td>https://www.tiktok.com/@_bubblyabby_</td>\n      <td>660</td>\n    </tr>\n    <tr>\n      <th>1</th>\n      <td>CGTN Culture Express</td>\n      <td>NaN</td>\n      <td>Anglosphere</td>\n      <td>English</td>\n      <td>Cross States</td>\n      <td>Language and Cultural Communities</td>\n      <td>China Media Group (CMG)</td>\n      <td>中央广播电视总台</td>\n      <td>Central Publicity Department</td>\n      <td>中共中央宣传部</td>\n      <td>...</td>\n      <td>635</td>\n      <td>NaN</td>\n      <td>NaN</td>\n      <td>0</td>\n      <td>NaN</td>\n      <td>NaN</td>\n      <td>0</td>\n      <td>NaN</td>\n      <td>NaN</td>\n      <td>0</td>\n    </tr>\n    <tr>\n      <th>2</th>\n      <td>All-China Students' Federation</td>\n      <td>中华全国学联</td>\n      <td>China</td>\n      <td>Chinese</td>\n      <td>Asia</td>\n      <td>Greater China</td>\n      <td>All-China Students' Federation</td>\n      <td>中华全国学生联合会</td>\n      <td>Central Committee of the Communist Youth League</td>\n      <td>共青团中央</td>\n      <td>...</td>\n      <td>0</td>\n      <td>NaN</td>\n      <td>NaN</td>\n      <td>0</td>\n      <td>NaN</td>\n      <td>NaN</td>\n      <td>0</td>\n      <td>NaN</td>\n      <td>NaN</td>\n      <td>0</td>\n    </tr>\n    <tr>\n      <th>3</th>\n      <td>Chen Zhong (Dechinghutay / Ghoti)</td>\n      <td>陈重</td>\n      <td>Afghanistan</td>\n      <td>Pashto</td>\n      <td>Asia</td>\n      <td>South Asia</td>\n      <td>China Media Group (CMG)</td>\n      <td>中央广播电视总台</td>\n      <td>Central Publicity Department</td>\n      <td>中共中央宣传部</td>\n      <td>...</td>\n      <td>0</td>\n      <td>NaN</td>\n      <td>NaN</td>\n      <td>0</td>\n      <td>dechinghutay</td>\n      <td>https://www.youtube.com/channel/UCXl9X2fi65wKf...</td>\n      <td>695</td>\n      <td>dechinghutay</td>\n      <td>https://www.tiktok.com/@dechinghutay</td>\n      <td>326100</td>\n    </tr>\n    <tr>\n      <th>4</th>\n      <td>Yang Sheng</td>\n      <td>NaN</td>\n      <td>Anglosphere</td>\n      <td>English</td>\n      <td>Cross States</td>\n      <td>Language and Cultural Communities</td>\n      <td>People's Daily Press</td>\n      <td>人民日报社</td>\n      <td>Central Committee of the Chinese Communist Party</td>\n      <td>中国共产党中央委员会</td>\n      <td>...</td>\n      <td>0</td>\n      <td>NaN</td>\n      <td>NaN</td>\n      <td>0</td>\n      <td>NaN</td>\n      <td>NaN</td>\n      <td>0</td>\n      <td>NaN</td>\n      <td>NaN</td>\n      <td>0</td>\n    </tr>\n    <tr>\n      <th>...</th>\n      <td>...</td>\n      <td>...</td>\n      <td>...</td>\n      <td>...</td>\n      <td>...</td>\n      <td>...</td>\n      <td>...</td>\n      <td>...</td>\n      <td>...</td>\n      <td>...</td>\n      <td>...</td>\n      <td>...</td>\n      <td>...</td>\n      <td>...</td>\n      <td>...</td>\n      <td>...</td>\n      <td>...</td>\n      <td>...</td>\n      <td>...</td>\n      <td>...</td>\n      <td>...</td>\n    </tr>\n    <tr>\n      <th>753</th>\n      <td>Yang Gang</td>\n      <td>杨刚</td>\n      <td>Singapore</td>\n      <td>Chinese</td>\n      <td>Asia</td>\n      <td>ASEAN</td>\n      <td>Ministry of Foreign Affairs</td>\n      <td>中华人民共和国外交部</td>\n      <td>Ministry of Foreign Affairs</td>\n      <td>中华人民共和国外交部</td>\n      <td>...</td>\n      <td>0</td>\n      <td>NaN</td>\n      <td>NaN</td>\n      <td>0</td>\n      <td>NaN</td>\n      <td>NaN</td>\n      <td>0</td>\n      <td>NaN</td>\n      <td>NaN</td>\n      <td>0</td>\n    </tr>\n    <tr>\n      <th>754</th>\n      <td>Chinese Office of the Commissioner in Hong Kong</td>\n      <td>外交部駐港公署</td>\n      <td>Hong Kong</td>\n      <td>Chinese</td>\n      <td>Asia</td>\n      <td>Greater China</td>\n      <td>Office of the Commissioner of the Ministry of ...</td>\n      <td>中華人民共和國外交部駐香港特別行政區特派員公署</td>\n      <td>Ministry of Foreign Affairs</td>\n      <td>中华人民共和国外交部</td>\n      <td>...</td>\n      <td>0</td>\n      <td>NaN</td>\n      <td>NaN</td>\n      <td>0</td>\n      <td>NaN</td>\n      <td>NaN</td>\n      <td>0</td>\n      <td>NaN</td>\n      <td>NaN</td>\n      <td>0</td>\n    </tr>\n    <tr>\n      <th>755</th>\n      <td>Shiting Wenshan</td>\n      <td>视听文山</td>\n      <td>Yunnan</td>\n      <td>Chinese</td>\n      <td>Asia</td>\n      <td>Greater China</td>\n      <td>Wenshan Radio &amp; Television Station</td>\n      <td>文山广播电视台</td>\n      <td>Wenshan Municipal People's Government</td>\n      <td>文山市人民政府</td>\n      <td>...</td>\n      <td>0</td>\n      <td>NaN</td>\n      <td>NaN</td>\n      <td>0</td>\n      <td>NaN</td>\n      <td>NaN</td>\n      <td>0</td>\n      <td>NaN</td>\n      <td>NaN</td>\n      <td>0</td>\n    </tr>\n    <tr>\n      <th>756</th>\n      <td>New Marco Polo</td>\n      <td>NaN</td>\n      <td>Anglosphere</td>\n      <td>English</td>\n      <td>Cross States</td>\n      <td>Language and Cultural Communities</td>\n      <td>Xinhua News Agency</td>\n      <td>新华社</td>\n      <td>State Council</td>\n      <td>中华人民共和国国务院</td>\n      <td>...</td>\n      <td>0</td>\n      <td>NaN</td>\n      <td>NaN</td>\n      <td>0</td>\n      <td>NaN</td>\n      <td>NaN</td>\n      <td>0</td>\n      <td>NaN</td>\n      <td>NaN</td>\n      <td>0</td>\n    </tr>\n    <tr>\n      <th>757</th>\n      <td>Xinhua Hong Kong</td>\n      <td>新華香港</td>\n      <td>Hong Kong</td>\n      <td>Chinese</td>\n      <td>Asia</td>\n      <td>Greater China</td>\n      <td>Xinhua News Agency</td>\n      <td>新华社</td>\n      <td>State Council</td>\n      <td>中华人民共和国国务院</td>\n      <td>...</td>\n      <td>0</td>\n      <td>NaN</td>\n      <td>NaN</td>\n      <td>0</td>\n      <td>NaN</td>\n      <td>NaN</td>\n      <td>0</td>\n      <td>NaN</td>\n      <td>NaN</td>\n      <td>0</td>\n    </tr>\n  </tbody>\n</table>\n<p>757 rows × 28 columns</p>\n</div>"
     },
     "execution_count": 15,
     "metadata": {},
     "output_type": "execute_result"
    }
   ]
  },
  {
   "cell_type": "code",
   "source": [
    "df"
   ],
   "metadata": {
    "id": "Sbjv45nepoOM",
    "executionInfo": {
     "status": "ok",
     "timestamp": 1700431447009,
     "user_tz": 300,
     "elapsed": 147,
     "user": {
      "displayName": "Alwyn Yin",
      "userId": "16553105048170736713"
     }
    },
    "colab": {
     "base_uri": "https://localhost:8080/",
     "height": 1746
    },
    "outputId": "957854a7-0199-41db-e0ae-f0ddd79bfd0a",
    "ExecuteTime": {
     "end_time": "2023-11-20T04:27:14.970177Z",
     "start_time": "2023-11-20T04:27:14.921050Z"
    }
   },
   "execution_count": 16,
   "outputs": [
    {
     "data": {
      "text/plain": "                                                Name Name_Chinese  \\\n0                           Yang Xinmeng (Abby Yang)          杨欣萌   \n1                               CGTN Culture Express          NaN   \n2                     All-China Students' Federation       中华全国学联   \n3                  Chen Zhong (Dechinghutay / Ghoti)           陈重   \n4                                         Yang Sheng          NaN   \n..                                               ...          ...   \n753                                        Yang Gang           杨刚   \n754  Chinese Office of the Commissioner in Hong Kong      外交部駐港公署   \n755                                  Shiting Wenshan         视听文山   \n756                                   New Marco Polo          NaN   \n757                                 Xinhua Hong Kong         新華香港   \n\n          Region Language        States                           Specific  \\\n0    Anglosphere  English  Cross States  Language and Cultural Communities   \n1    Anglosphere  English  Cross States  Language and Cultural Communities   \n2          China  Chinese          Asia                      Greater China   \n3    Afghanistan   Pashto          Asia                         South Asia   \n4    Anglosphere  English  Cross States  Language and Cultural Communities   \n..           ...      ...           ...                                ...   \n753    Singapore  Chinese          Asia                              ASEAN   \n754    Hong Kong  Chinese          Asia                      Greater China   \n755       Yunnan  Chinese          Asia                      Greater China   \n756  Anglosphere  English  Cross States  Language and Cultural Communities   \n757    Hong Kong  Chinese          Asia                      Greater China   \n\n                                                 Owner  \\\n0                              China Media Group (CMG)   \n1                              China Media Group (CMG)   \n2                       All-China Students' Federation   \n3                              China Media Group (CMG)   \n4                                 People's Daily Press   \n..                                                 ...   \n753                        Ministry of Foreign Affairs   \n754  Office of the Commissioner of the Ministry of ...   \n755                 Wenshan Radio & Television Station   \n756                                 Xinhua News Agency   \n757                                 Xinhua News Agency   \n\n               Owner_Chinese  \\\n0                   中央广播电视总台   \n1                   中央广播电视总台   \n2                  中华全国学生联合会   \n3                   中央广播电视总台   \n4                      人民日报社   \n..                       ...   \n753               中华人民共和国外交部   \n754  中華人民共和國外交部駐香港特別行政區特派員公署   \n755                  文山广播电视台   \n756                      新华社   \n757                      新华社   \n\n                                               Parent Parent_Chinese  ...  \\\n0                        Central Publicity Department        中共中央宣传部  ...   \n1                        Central Publicity Department        中共中央宣传部  ...   \n2     Central Committee of the Communist Youth League          共青团中央  ...   \n3                        Central Publicity Department        中共中央宣传部  ...   \n4    Central Committee of the Chinese Communist Party     中国共产党中央委员会  ...   \n..                                                ...            ...  ...   \n753                       Ministry of Foreign Affairs     中华人民共和国外交部  ...   \n754                       Ministry of Foreign Affairs     中华人民共和国外交部  ...   \n755             Wenshan Municipal People's Government        文山市人民政府  ...   \n756                                     State Council     中华人民共和国国务院  ...   \n757                                     State Council     中华人民共和国国务院  ...   \n\n    Instagram_fol       Threads                            Threads_url  \\\n0            9507  _bubblyabby_  https://www.threads.net/@_bubblyabby_   \n1             635           NaN                                    NaN   \n2               0           NaN                                    NaN   \n3               0           NaN                                    NaN   \n4               0           NaN                                    NaN   \n..            ...           ...                                    ...   \n753             0           NaN                                    NaN   \n754             0           NaN                                    NaN   \n755             0           NaN                                    NaN   \n756             0           NaN                                    NaN   \n757             0           NaN                                    NaN   \n\n    Threads_fol       Youtube  \\\n0           197       itsAbby   \n1             0           NaN   \n2             0           NaN   \n3             0  dechinghutay   \n4             0           NaN   \n..          ...           ...   \n753           0           NaN   \n754           0           NaN   \n755           0           NaN   \n756           0           NaN   \n757           0           NaN   \n\n                                           Youtube_url Youtube_fol  \\\n0                      https://www.youtube.com/itsAbby        4680   \n1                                                  NaN           0   \n2                                                  NaN           0   \n3    https://www.youtube.com/channel/UCXl9X2fi65wKf...         695   \n4                                                  NaN           0   \n..                                                 ...         ...   \n753                                                NaN           0   \n754                                                NaN           0   \n755                                                NaN           0   \n756                                                NaN           0   \n757                                                NaN           0   \n\n           Tiktok                            Tiktok_url Tiktok_fol  \n0    _bubblyabby_  https://www.tiktok.com/@_bubblyabby_        660  \n1             NaN                                   NaN          0  \n2             NaN                                   NaN          0  \n3    dechinghutay  https://www.tiktok.com/@dechinghutay     326100  \n4             NaN                                   NaN          0  \n..            ...                                   ...        ...  \n753           NaN                                   NaN          0  \n754           NaN                                   NaN          0  \n755           NaN                                   NaN          0  \n756           NaN                                   NaN          0  \n757           NaN                                   NaN          0  \n\n[757 rows x 28 columns]",
      "text/html": "<div>\n<style scoped>\n    .dataframe tbody tr th:only-of-type {\n        vertical-align: middle;\n    }\n\n    .dataframe tbody tr th {\n        vertical-align: top;\n    }\n\n    .dataframe thead th {\n        text-align: right;\n    }\n</style>\n<table border=\"1\" class=\"dataframe\">\n  <thead>\n    <tr style=\"text-align: right;\">\n      <th></th>\n      <th>Name</th>\n      <th>Name_Chinese</th>\n      <th>Region</th>\n      <th>Language</th>\n      <th>States</th>\n      <th>Specific</th>\n      <th>Owner</th>\n      <th>Owner_Chinese</th>\n      <th>Parent</th>\n      <th>Parent_Chinese</th>\n      <th>...</th>\n      <th>Instagram_fol</th>\n      <th>Threads</th>\n      <th>Threads_url</th>\n      <th>Threads_fol</th>\n      <th>Youtube</th>\n      <th>Youtube_url</th>\n      <th>Youtube_fol</th>\n      <th>Tiktok</th>\n      <th>Tiktok_url</th>\n      <th>Tiktok_fol</th>\n    </tr>\n  </thead>\n  <tbody>\n    <tr>\n      <th>0</th>\n      <td>Yang Xinmeng (Abby Yang)</td>\n      <td>杨欣萌</td>\n      <td>Anglosphere</td>\n      <td>English</td>\n      <td>Cross States</td>\n      <td>Language and Cultural Communities</td>\n      <td>China Media Group (CMG)</td>\n      <td>中央广播电视总台</td>\n      <td>Central Publicity Department</td>\n      <td>中共中央宣传部</td>\n      <td>...</td>\n      <td>9507</td>\n      <td>_bubblyabby_</td>\n      <td>https://www.threads.net/@_bubblyabby_</td>\n      <td>197</td>\n      <td>itsAbby</td>\n      <td>https://www.youtube.com/itsAbby</td>\n      <td>4680</td>\n      <td>_bubblyabby_</td>\n      <td>https://www.tiktok.com/@_bubblyabby_</td>\n      <td>660</td>\n    </tr>\n    <tr>\n      <th>1</th>\n      <td>CGTN Culture Express</td>\n      <td>NaN</td>\n      <td>Anglosphere</td>\n      <td>English</td>\n      <td>Cross States</td>\n      <td>Language and Cultural Communities</td>\n      <td>China Media Group (CMG)</td>\n      <td>中央广播电视总台</td>\n      <td>Central Publicity Department</td>\n      <td>中共中央宣传部</td>\n      <td>...</td>\n      <td>635</td>\n      <td>NaN</td>\n      <td>NaN</td>\n      <td>0</td>\n      <td>NaN</td>\n      <td>NaN</td>\n      <td>0</td>\n      <td>NaN</td>\n      <td>NaN</td>\n      <td>0</td>\n    </tr>\n    <tr>\n      <th>2</th>\n      <td>All-China Students' Federation</td>\n      <td>中华全国学联</td>\n      <td>China</td>\n      <td>Chinese</td>\n      <td>Asia</td>\n      <td>Greater China</td>\n      <td>All-China Students' Federation</td>\n      <td>中华全国学生联合会</td>\n      <td>Central Committee of the Communist Youth League</td>\n      <td>共青团中央</td>\n      <td>...</td>\n      <td>0</td>\n      <td>NaN</td>\n      <td>NaN</td>\n      <td>0</td>\n      <td>NaN</td>\n      <td>NaN</td>\n      <td>0</td>\n      <td>NaN</td>\n      <td>NaN</td>\n      <td>0</td>\n    </tr>\n    <tr>\n      <th>3</th>\n      <td>Chen Zhong (Dechinghutay / Ghoti)</td>\n      <td>陈重</td>\n      <td>Afghanistan</td>\n      <td>Pashto</td>\n      <td>Asia</td>\n      <td>South Asia</td>\n      <td>China Media Group (CMG)</td>\n      <td>中央广播电视总台</td>\n      <td>Central Publicity Department</td>\n      <td>中共中央宣传部</td>\n      <td>...</td>\n      <td>0</td>\n      <td>NaN</td>\n      <td>NaN</td>\n      <td>0</td>\n      <td>dechinghutay</td>\n      <td>https://www.youtube.com/channel/UCXl9X2fi65wKf...</td>\n      <td>695</td>\n      <td>dechinghutay</td>\n      <td>https://www.tiktok.com/@dechinghutay</td>\n      <td>326100</td>\n    </tr>\n    <tr>\n      <th>4</th>\n      <td>Yang Sheng</td>\n      <td>NaN</td>\n      <td>Anglosphere</td>\n      <td>English</td>\n      <td>Cross States</td>\n      <td>Language and Cultural Communities</td>\n      <td>People's Daily Press</td>\n      <td>人民日报社</td>\n      <td>Central Committee of the Chinese Communist Party</td>\n      <td>中国共产党中央委员会</td>\n      <td>...</td>\n      <td>0</td>\n      <td>NaN</td>\n      <td>NaN</td>\n      <td>0</td>\n      <td>NaN</td>\n      <td>NaN</td>\n      <td>0</td>\n      <td>NaN</td>\n      <td>NaN</td>\n      <td>0</td>\n    </tr>\n    <tr>\n      <th>...</th>\n      <td>...</td>\n      <td>...</td>\n      <td>...</td>\n      <td>...</td>\n      <td>...</td>\n      <td>...</td>\n      <td>...</td>\n      <td>...</td>\n      <td>...</td>\n      <td>...</td>\n      <td>...</td>\n      <td>...</td>\n      <td>...</td>\n      <td>...</td>\n      <td>...</td>\n      <td>...</td>\n      <td>...</td>\n      <td>...</td>\n      <td>...</td>\n      <td>...</td>\n      <td>...</td>\n    </tr>\n    <tr>\n      <th>753</th>\n      <td>Yang Gang</td>\n      <td>杨刚</td>\n      <td>Singapore</td>\n      <td>Chinese</td>\n      <td>Asia</td>\n      <td>ASEAN</td>\n      <td>Ministry of Foreign Affairs</td>\n      <td>中华人民共和国外交部</td>\n      <td>Ministry of Foreign Affairs</td>\n      <td>中华人民共和国外交部</td>\n      <td>...</td>\n      <td>0</td>\n      <td>NaN</td>\n      <td>NaN</td>\n      <td>0</td>\n      <td>NaN</td>\n      <td>NaN</td>\n      <td>0</td>\n      <td>NaN</td>\n      <td>NaN</td>\n      <td>0</td>\n    </tr>\n    <tr>\n      <th>754</th>\n      <td>Chinese Office of the Commissioner in Hong Kong</td>\n      <td>外交部駐港公署</td>\n      <td>Hong Kong</td>\n      <td>Chinese</td>\n      <td>Asia</td>\n      <td>Greater China</td>\n      <td>Office of the Commissioner of the Ministry of ...</td>\n      <td>中華人民共和國外交部駐香港特別行政區特派員公署</td>\n      <td>Ministry of Foreign Affairs</td>\n      <td>中华人民共和国外交部</td>\n      <td>...</td>\n      <td>0</td>\n      <td>NaN</td>\n      <td>NaN</td>\n      <td>0</td>\n      <td>NaN</td>\n      <td>NaN</td>\n      <td>0</td>\n      <td>NaN</td>\n      <td>NaN</td>\n      <td>0</td>\n    </tr>\n    <tr>\n      <th>755</th>\n      <td>Shiting Wenshan</td>\n      <td>视听文山</td>\n      <td>Yunnan</td>\n      <td>Chinese</td>\n      <td>Asia</td>\n      <td>Greater China</td>\n      <td>Wenshan Radio &amp; Television Station</td>\n      <td>文山广播电视台</td>\n      <td>Wenshan Municipal People's Government</td>\n      <td>文山市人民政府</td>\n      <td>...</td>\n      <td>0</td>\n      <td>NaN</td>\n      <td>NaN</td>\n      <td>0</td>\n      <td>NaN</td>\n      <td>NaN</td>\n      <td>0</td>\n      <td>NaN</td>\n      <td>NaN</td>\n      <td>0</td>\n    </tr>\n    <tr>\n      <th>756</th>\n      <td>New Marco Polo</td>\n      <td>NaN</td>\n      <td>Anglosphere</td>\n      <td>English</td>\n      <td>Cross States</td>\n      <td>Language and Cultural Communities</td>\n      <td>Xinhua News Agency</td>\n      <td>新华社</td>\n      <td>State Council</td>\n      <td>中华人民共和国国务院</td>\n      <td>...</td>\n      <td>0</td>\n      <td>NaN</td>\n      <td>NaN</td>\n      <td>0</td>\n      <td>NaN</td>\n      <td>NaN</td>\n      <td>0</td>\n      <td>NaN</td>\n      <td>NaN</td>\n      <td>0</td>\n    </tr>\n    <tr>\n      <th>757</th>\n      <td>Xinhua Hong Kong</td>\n      <td>新華香港</td>\n      <td>Hong Kong</td>\n      <td>Chinese</td>\n      <td>Asia</td>\n      <td>Greater China</td>\n      <td>Xinhua News Agency</td>\n      <td>新华社</td>\n      <td>State Council</td>\n      <td>中华人民共和国国务院</td>\n      <td>...</td>\n      <td>0</td>\n      <td>NaN</td>\n      <td>NaN</td>\n      <td>0</td>\n      <td>NaN</td>\n      <td>NaN</td>\n      <td>0</td>\n      <td>NaN</td>\n      <td>NaN</td>\n      <td>0</td>\n    </tr>\n  </tbody>\n</table>\n<p>757 rows × 28 columns</p>\n</div>"
     },
     "execution_count": 16,
     "metadata": {},
     "output_type": "execute_result"
    }
   ]
  },
  {
   "cell_type": "markdown",
   "source": [
    "We add a \"most influencing\" row to the stuff"
   ],
   "metadata": {
    "id": "ncAoEFNHyzhE"
   }
  },
  {
   "cell_type": "code",
   "source": [
    "df[\"Max_media_fol\"] = df[media_fol].max(axis=1).astype(\"Int64\")\n",
    "df[\"Max_media\"] = df[media_fol].idxmax(axis=1).apply(lambda x: x[:-4])"
   ],
   "metadata": {
    "id": "VHeRZoP8yxr3",
    "executionInfo": {
     "status": "ok",
     "timestamp": 1700431447304,
     "user_tz": 300,
     "elapsed": 296,
     "user": {
      "displayName": "Alwyn Yin",
      "userId": "16553105048170736713"
     }
    },
    "colab": {
     "base_uri": "https://localhost:8080/"
    },
    "outputId": "2f29ad99-4c0e-44fc-b7ed-6b209d161087",
    "ExecuteTime": {
     "end_time": "2023-11-20T04:27:21.861358Z",
     "start_time": "2023-11-20T04:27:21.821489Z"
    }
   },
   "execution_count": 17,
   "outputs": []
  },
  {
   "cell_type": "code",
   "source": [
    "df[\"Max_media_fol\"]"
   ],
   "metadata": {
    "id": "XFvplG_w5Pqd",
    "executionInfo": {
     "status": "ok",
     "timestamp": 1700431447305,
     "user_tz": 300,
     "elapsed": 4,
     "user": {
      "displayName": "Alwyn Yin",
      "userId": "16553105048170736713"
     }
    },
    "colab": {
     "base_uri": "https://localhost:8080/"
    },
    "outputId": "df1aeec8-0ca2-480f-e449-054b50efd7ef",
    "ExecuteTime": {
     "end_time": "2023-11-20T04:27:23.104526Z",
     "start_time": "2023-11-20T04:27:23.091429Z"
    }
   },
   "execution_count": 18,
   "outputs": [
    {
     "data": {
      "text/plain": "0      1387432\n1         2488\n2         5136\n3      1600000\n4         2821\n        ...   \n753       1700\n754     853000\n755         15\n756    2300000\n757    1400000\nName: Max_media_fol, Length: 757, dtype: Int64"
     },
     "execution_count": 18,
     "metadata": {},
     "output_type": "execute_result"
    }
   ]
  },
  {
   "cell_type": "code",
   "source": [
    "df[\"Max_media\"]"
   ],
   "metadata": {
    "id": "V0_nz9Mg5RuP",
    "executionInfo": {
     "status": "ok",
     "timestamp": 1700431447509,
     "user_tz": 300,
     "elapsed": 206,
     "user": {
      "displayName": "Alwyn Yin",
      "userId": "16553105048170736713"
     }
    },
    "colab": {
     "base_uri": "https://localhost:8080/"
    },
    "outputId": "fb3a8c01-01bc-4493-8374-7604e39b7158",
    "ExecuteTime": {
     "end_time": "2023-11-20T04:27:24.233774Z",
     "start_time": "2023-11-20T04:27:24.222353Z"
    }
   },
   "execution_count": 19,
   "outputs": [
    {
     "data": {
      "text/plain": "0      Facebook\n1       Twitter\n2       Twitter\n3      Facebook\n4       Twitter\n         ...   \n753    Facebook\n754    Facebook\n755    Facebook\n756    Facebook\n757    Facebook\nName: Max_media, Length: 757, dtype: object"
     },
     "execution_count": 19,
     "metadata": {},
     "output_type": "execute_result"
    }
   ]
  },
  {
   "cell_type": "code",
   "source": [
    "df[\"Sum_fol\"] = df[media_fol].sum(axis=1).astype(\"Int64\")"
   ],
   "metadata": {
    "id": "i0hC2egKqOzh",
    "executionInfo": {
     "status": "ok",
     "timestamp": 1700431447509,
     "user_tz": 300,
     "elapsed": 2,
     "user": {
      "displayName": "Alwyn Yin",
      "userId": "16553105048170736713"
     }
    },
    "ExecuteTime": {
     "end_time": "2023-11-20T04:27:25.559238Z",
     "start_time": "2023-11-20T04:27:25.541564Z"
    }
   },
   "execution_count": 20,
   "outputs": []
  },
  {
   "cell_type": "code",
   "source": [
    "df.to_csv(\"data/results.csv\")"
   ],
   "metadata": {
    "id": "5rl948ZXX8YZ",
    "executionInfo": {
     "status": "ok",
     "timestamp": 1700431447509,
     "user_tz": 300,
     "elapsed": 2,
     "user": {
      "displayName": "Alwyn Yin",
      "userId": "16553105048170736713"
     }
    },
    "ExecuteTime": {
     "end_time": "2023-11-20T04:27:36.341784Z",
     "start_time": "2023-11-20T04:27:36.317355Z"
    }
   },
   "execution_count": 21,
   "outputs": []
  },
  {
   "cell_type": "code",
   "source": [],
   "metadata": {
    "id": "CRt0crPLYIYe",
    "executionInfo": {
     "status": "ok",
     "timestamp": 1700431447509,
     "user_tz": 300,
     "elapsed": 1,
     "user": {
      "displayName": "Alwyn Yin",
      "userId": "16553105048170736713"
     }
    }
   },
   "execution_count": 34,
   "outputs": []
  }
 ]
}
